{
 "cells": [
  {
   "cell_type": "code",
   "execution_count": 3,
   "metadata": {
    "collapsed": false
   },
   "outputs": [
    {
     "name": "stdout",
     "output_type": "stream",
     "text": [
      "True\n"
     ]
    }
   ],
   "source": [
    "spam=42\n",
    "if spam==42:\n",
    " print('True')\n",
    "else:\n",
    " print('False')"
   ]
  },
  {
   "cell_type": "code",
   "execution_count": 10,
   "metadata": {
    "collapsed": false
   },
   "outputs": [
    {
     "data": {
      "text/plain": [
       "u\"import pyperclip\\npyperclip.copy('Hello World')\\npyperclip.paste()\""
      ]
     },
     "execution_count": 10,
     "metadata": {},
     "output_type": "execute_result"
    }
   ],
   "source": [
    "import pyperclip\n",
    "pyperclip.copy('Hello World')\n",
    "pyperclip.paste()"
   ]
  },
  {
   "cell_type": "markdown",
   "metadata": {},
   "source": [
    "# Regex"
   ]
  },
  {
   "cell_type": "code",
   "execution_count": 35,
   "metadata": {
    "collapsed": false
   },
   "outputs": [
    {
     "name": "stdout",
     "output_type": "stream",
     "text": [
      "<_sre.SRE_Match object at 0x7ff0bd4ee308>\n",
      "20\n"
     ]
    }
   ],
   "source": [
    "import re\n",
    "message='Hello My name is Subham . I am 20 years old . My Roll No IS 57'\n",
    "reg=re.compile(r'\\d\\d')\n",
    "print(reg.search(message))\n",
    "ans=reg.search(message)\n",
    "print(ans.group())\n",
    "#for i in ans:\n",
    " #print(i)"
   ]
  },
  {
   "cell_type": "code",
   "execution_count": 28,
   "metadata": {
    "collapsed": false
   },
   "outputs": [
    {
     "name": "stdout",
     "output_type": "stream",
     "text": [
      "['20', '57']\n",
      "20\n",
      "57\n"
     ]
    }
   ],
   "source": [
    "import re\n",
    "message='Hello My name is Subham . I am 20 years old . My Roll No IS 57'\n",
    "reg=re.compile(r'\\d\\d')\n",
    "print(reg.findall(message)) #Here it does not  give object,bcz now it has list\n",
    "ans=reg.findall(message)\n",
    "\n",
    "for i in ans:\n",
    " print(i)"
   ]
  },
  {
   "cell_type": "code",
   "execution_count": 36,
   "metadata": {
    "collapsed": false
   },
   "outputs": [
    {
     "name": "stdout",
     "output_type": "stream",
     "text": [
      "20\n",
      "2\n",
      "0\n"
     ]
    }
   ],
   "source": [
    "import re\n",
    "message='Hello My name is Subham . I am 20 years old . My Roll No IS 57'\n",
    "reg=re.compile(r'(\\d)(\\d)')  #Grouping\n",
    "ans=reg.search(message)\n",
    "\n",
    "print(ans.group(0))\n",
    "print(ans.group(1))\n",
    "print(ans.group(2))"
   ]
  },
  {
   "cell_type": "code",
   "execution_count": 58,
   "metadata": {
    "collapsed": false
   },
   "outputs": [
    {
     "name": "stdout",
     "output_type": "stream",
     "text": [
      "[('2', '0'), ('5', '7')]\n"
     ]
    }
   ],
   "source": [
    "import re\n",
    "message='Hello My name is Subham . I am 20 years old . My Roll No IS 57'\n",
    "reg=re.compile(r'(\\d)(\\d)')  #Grouping\n",
    "print(reg.findall(message))  #Prints List of Tuples\n",
    "\n"
   ]
  },
  {
   "cell_type": "code",
   "execution_count": 59,
   "metadata": {
    "collapsed": false
   },
   "outputs": [
    {
     "name": "stdout",
     "output_type": "stream",
     "text": [
      "[('20', '2', '0'), ('57', '5', '7')]\n"
     ]
    }
   ],
   "source": [
    "import re\n",
    "message='Hello My name is Subham . I am 20 years old . My Roll No IS 57'\n",
    "reg=re.compile(r'((\\d)(\\d))')  #Grouping\n",
    "print(reg.findall(message))  #Prints List of Tuples\n",
    "\n"
   ]
  },
  {
   "cell_type": "code",
   "execution_count": 43,
   "metadata": {
    "collapsed": false
   },
   "outputs": [
    {
     "name": "stdout",
     "output_type": "stream",
     "text": [
      "BE/10257/2014\n"
     ]
    }
   ],
   "source": [
    "import re\n",
    "message='Hello My name is Subham . I am 20 years old . My Roll No IS BE/10257/2014'\n",
    "reg1=re.compile(r'\\w\\w\\/\\d\\d\\d\\d\\d\\/\\d\\d\\d\\d')\n",
    "ans=reg1.search(message)\n",
    "print(ans.group())\n"
   ]
  },
  {
   "cell_type": "code",
   "execution_count": 45,
   "metadata": {
    "collapsed": false
   },
   "outputs": [
    {
     "name": "stdout",
     "output_type": "stream",
     "text": [
      "BE/10257/2014\n"
     ]
    }
   ],
   "source": [
    "import re\n",
    "message='Hello My name is Subham . I am 20 years old . My Roll No IS BE/10257/2014'\n",
    "ans=re.search(r'\\w\\w\\/\\d\\d\\d\\d\\d\\/\\d\\d\\d\\d',message) # Alternate approach\n",
    "print(ans.group())\n"
   ]
  },
  {
   "cell_type": "code",
   "execution_count": 48,
   "metadata": {
    "collapsed": false
   },
   "outputs": [
    {
     "name": "stdout",
     "output_type": "stream",
     "text": [
      "Course:BE\n",
      "Roll NO:10257\n",
      "Year of Admission:2014\n"
     ]
    }
   ],
   "source": [
    "import re\n",
    "message='Hello My name is Subham . I am 20 years old . My Roll No IS BE/10257/2014'\n",
    "reg1=re.compile(r'(\\w\\w)(\\/)(\\d\\d\\d\\d\\d)(\\/)(\\d\\d\\d\\d)')\n",
    "ans=reg1.search(message)\n",
    "print('Course:'+ans.group(1))\n",
    "print('Roll NO:'+ans.group(3))\n",
    "print('Year of Admission:'+ans.group(5))\n"
   ]
  },
  {
   "cell_type": "code",
   "execution_count": 52,
   "metadata": {
    "collapsed": false
   },
   "outputs": [
    {
     "name": "stdout",
     "output_type": "stream",
     "text": [
      "BE\n",
      "10257\n",
      "2014\n"
     ]
    }
   ],
   "source": [
    "import re\n",
    "message='Hello My name is Subham . I am 20 years old . My Roll No IS BE/10257/2014'\n",
    "reg1=re.compile(r'(\\w\\w)(\\/)(\\d\\d\\d\\d\\d)(\\/)(\\d\\d\\d\\d)')\n",
    "ans=reg1.search(message)\n",
    "for i in range(1,6,2):\n",
    " print(ans.group(i))\n"
   ]
  },
  {
   "cell_type": "code",
   "execution_count": 54,
   "metadata": {
    "collapsed": false
   },
   "outputs": [
    {
     "name": "stdout",
     "output_type": "stream",
     "text": [
      "Subham\n"
     ]
    }
   ],
   "source": [
    "import re\n",
    "message='Hello This is Subham'\n",
    "mo=re.compile(r'Subham|Rajat|Aman|Dewang')\n",
    "ans=mo.search(message)\n",
    "print(ans.group())"
   ]
  },
  {
   "cell_type": "code",
   "execution_count": 57,
   "metadata": {
    "collapsed": false
   },
   "outputs": [
    {
     "name": "stdout",
     "output_type": "stream",
     "text": [
      "['Rajat', 'Subham']\n"
     ]
    }
   ],
   "source": [
    "import re\n",
    "message='Hello Rajat, This is Subham '\n",
    "mo=re.compile(r'Subham|Rajat|Aman|Dewang')\n",
    "print(mo.findall(message))\n"
   ]
  },
  {
   "cell_type": "code",
   "execution_count": null,
   "metadata": {
    "collapsed": true
   },
   "outputs": [],
   "source": []
  }
 ],
 "metadata": {
  "kernelspec": {
   "display_name": "Python 2",
   "language": "python",
   "name": "python2"
  },
  "language_info": {
   "codemirror_mode": {
    "name": "ipython",
    "version": 2
   },
   "file_extension": ".py",
   "mimetype": "text/x-python",
   "name": "python",
   "nbconvert_exporter": "python",
   "pygments_lexer": "ipython2",
   "version": "2.7.12"
  }
 },
 "nbformat": 4,
 "nbformat_minor": 0
}
