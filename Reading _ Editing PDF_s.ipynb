{
 "cells": [
  {
   "cell_type": "code",
   "execution_count": 2,
   "metadata": {
    "collapsed": false
   },
   "outputs": [],
   "source": [
    "import os\n",
    "os.chdir('/home/codeblocks/Downloads')"
   ]
  },
  {
   "cell_type": "code",
   "execution_count": 13,
   "metadata": {
    "collapsed": true
   },
   "outputs": [],
   "source": [
    "import PyPDF2\n",
    "pdfFile1=open('My.pdf','rb')"
   ]
  },
  {
   "cell_type": "code",
   "execution_count": 6,
   "metadata": {
    "collapsed": false
   },
   "outputs": [],
   "source": [
    "reader=PyPDF2.PdfFileReader(pdfFile1)"
   ]
  },
  {
   "cell_type": "code",
   "execution_count": 7,
   "metadata": {
    "collapsed": false
   },
   "outputs": [
    {
     "data": {
      "text/plain": [
       "3"
      ]
     },
     "execution_count": 7,
     "metadata": {},
     "output_type": "execute_result"
    }
   ],
   "source": [
    "reader.numPages"
   ]
  },
  {
   "cell_type": "code",
   "execution_count": 8,
   "metadata": {
    "collapsed": true
   },
   "outputs": [],
   "source": [
    "page=reader.getPage(0)"
   ]
  },
  {
   "cell_type": "code",
   "execution_count": 9,
   "metadata": {
    "collapsed": false
   },
   "outputs": [
    {
     "data": {
      "text/plain": [
       "u'\\n\\n\\u02c6\\u02d9\\u02dd\\u02db\\u02da\\u02dc\\u02da \\n!\"#$\" \\n&%\\'(\\u02d9\\u02dd\\u02db\\u02da\\u02dc\\u02da \\n)(\\n##* +\\n\"\\n#\"\\n\\n$)/\\u02dc\\u02da.\\n$)&01)\\'3%314)\\n56)%5 \\n\"\\n\\n3#\"(\\n\\n\"#\"(\\n\\n\\u02c6\\u02d9\\u02dd\\u02db\\u02da\\u02dc\\u02dc\\u02db !\"#\\u02db$%!&!\\u02d9\"\\'#(!\\u02d9\"\\n$)\\u02c63%314\")25&5(\\n0\"\\n\\n\"\\n\"\"\"\\u02d8\"\\n##\"\"+ +)\\n##+)\\n\\u02d8!\\u02c6)\\u02dc\\u02db\\u02c6\\'\\u02db#\\n*\\u02d9\\u02dc&\\u02d9&!#\\n@\\n+,\\nA2B6#+:\\n\\n?#\"\\n\\u02dd)!\"\\n5#\\n\\u02c6)\\u02db! !-!\\u02dc\\u02dd#\\n\\n\\u02dc\\u02d9\\u02c6\\'\\u02c7\\u02da.\\u02dc\\u02db0\\u02db!\"\\n2\"+5\"#\"\\n%\\u02da\\u02c7!&\"\\u02dc\\u02c7\\u02da\\u02c7\\u02db\\u02dc\\u02dc\\u02dd\\n\"+5+#\\n!2\\u02dd!-3!\"#\\n2\"+5+D\"\\n%/\\n1\"#+1\":\\n\\u02dc\\u02dd\"!&!7!!\\'\\u02da\\u02c7\\u02db\\u02dc&\\n\\u02da-2!\\u02dd\\u02db\\u02dd\\u02db\\u02da\\u02dc8\\n,\\u02db \\u02db\\u02c7!\\u02da\\u02dc:!\"\\n(51#+\\n6\\u02dc\\u02dd\"!&!\\u02da\\u02c7\\u02db\\u02dc\\u02da-2!\\u02dd\\u02db\\u02dd\\u02db\\u02da\\u02dc8\\n'"
      ]
     },
     "execution_count": 9,
     "metadata": {},
     "output_type": "execute_result"
    }
   ],
   "source": [
    "page.extractText()"
   ]
  },
  {
   "cell_type": "code",
   "execution_count": 10,
   "metadata": {
    "collapsed": false
   },
   "outputs": [
    {
     "name": "stdout",
     "output_type": "stream",
     "text": [
      "\n",
      "\n",
      "ˆ˙˝˛˚˜˚ \n",
      "!\"#$\" \n",
      "&%'(˙˝˛˚˜˚ \n",
      ")(\n",
      "##* +\n",
      "\"\n",
      "#\"\n",
      "\n",
      "$)/˜˚.\n",
      "$)&01)'3%314)\n",
      "56)%5 \n",
      "\"\n",
      "\n",
      "3#\"(\n",
      "\n",
      "\"#\"(\n",
      "\n",
      "ˆ˙˝˛˚˜˜˛ !\"#˛$%!&!˙\"'#(!˙\"\n",
      "$)ˆ3%314\")25&5(\n",
      "0\"\n",
      "\n",
      "\"\n",
      "\"\"\"˘\"\n",
      "##\"\"+ +)\n",
      "##+)\n",
      "˘!ˆ)˜˛ˆ'˛#\n",
      "*˙˜&˙&!#\n",
      "@\n",
      "+,\n",
      "A2B6#+:\n",
      "\n",
      "?#\"\n",
      "˝)!\"\n",
      "5#\n",
      "ˆ)˛! !-!˜˝#\n",
      "\n",
      "˜˙ˆ'ˇ˚.˜˛0˛!\"\n",
      "2\"+5\"#\"\n",
      "%˚ˇ!&\"˜ˇ˚ˇ˛˜˜˝\n",
      "\"+5+#\n",
      "!2˝!-3!\"#\n",
      "2\"+5+D\"\n",
      "%/\n",
      "1\"#+1\":\n",
      "˜˝\"!&!7!!'˚ˇ˛˜&\n",
      "˚-2!˝˛˝˛˚˜8\n",
      ",˛ ˛ˇ!˚˜:!\"\n",
      "(51#+\n",
      "6˜˝\"!&!˚ˇ˛˜˚-2!˝˛˝˛˚˜8\n",
      "\n",
      "2<\"#<\"#\n",
      "+7\n",
      "(FFF ++7 +ˇ#\"++D#\n",
      ":\"#\n",
      "(+\"# +\"+D#\n",
      ":&\n",
      "FFF # +ˇ#\"G+\n",
      ":+D\")\n",
      "(FFF+D\"+*##\n",
      ":˝)!\"ˆ)˛! !-!˝#\n",
      "%,\n",
      "(2\"\"+\"#+7+#\"<\"\n",
      "\"˘\"\n",
      ",<%,\n",
      "5\"+5\n",
      "\n",
      "2\"+5+\n",
      "˘\n",
      "2+˚\n",
      "%˙##%ˇ8\n",
      "(+\n",
      "˙˝˛˚˜3!\"˛˙ˇ\n",
      "2\"+5?\n",
      "\n",
      "\n",
      "\n",
      "\"\"˛ˆ˙\"ˆ˝˛ ˛˝˛!#\n",
      "˜˙˜ˆ)˛\n",
      "1\"\"\"\"?\"?#\"\n",
      "1\"\"+˘\"\":\n",
      "˘˘+\n",
      "\"1\"++\n",
      "1\"\"\"\n",
      "51?\"<\"\"+\"\"1\"\n",
      "<˜˝!!\"2!\"˛!˜ˆ!\n",
      "%??7˚\"'#)˚2\n",
      "J\"\"5@!\")210$\n",
      "˘<\n",
      "(J\"\"\"˘\"\"#<\"#D\"˘+\"\n",
      "\n",
      "@\n",
      "J\"\"5\"˘\"1\"++\"#<\"#D\"\"\n",
      "\n",
      "\"7?##+?+ \n",
      "\n",
      "\"(\n",
      "\n"
     ]
    }
   ],
   "source": [
    "for pagenum in range(reader.numPages):\n",
    "    print (reader.getPage(pagenum).extractText())"
   ]
  },
  {
   "cell_type": "code",
   "execution_count": 14,
   "metadata": {
    "collapsed": true
   },
   "outputs": [],
   "source": [
    "pdfFile2=open('Resume(1).pdf','rb')"
   ]
  },
  {
   "cell_type": "code",
   "execution_count": 15,
   "metadata": {
    "collapsed": true
   },
   "outputs": [],
   "source": [
    "reader1=PyPDF2.PdfFileReader(pdfFile1)\n",
    "reader2=PyPDF2.PdfFileReader(pdfFile2)"
   ]
  },
  {
   "cell_type": "code",
   "execution_count": 12,
   "metadata": {
    "collapsed": true
   },
   "outputs": [],
   "source": [
    "writer=PyPDF2.PdfFileWriter()"
   ]
  },
  {
   "cell_type": "code",
   "execution_count": 17,
   "metadata": {
    "collapsed": false
   },
   "outputs": [],
   "source": [
    "for pagenum in range(reader1.numPages):\n",
    "    page=reader1.getPage(pagenum)\n",
    "    writer.addPage(page)"
   ]
  },
  {
   "cell_type": "code",
   "execution_count": 20,
   "metadata": {
    "collapsed": false
   },
   "outputs": [],
   "source": [
    "for pagenum in range(reader2.numPages):\n",
    "    page=reader2.getPage(pagenum)\n",
    "    writer.addPage(page)"
   ]
  },
  {
   "cell_type": "code",
   "execution_count": 27,
   "metadata": {
    "collapsed": false
   },
   "outputs": [
    {
     "ename": "OSError",
     "evalue": "[Errno 2] No such file or directory: '\\\\home\\\\codeblocks'",
     "output_type": "error",
     "traceback": [
      "\u001b[1;31m---------------------------------------------------------------------------\u001b[0m",
      "\u001b[1;31mOSError\u001b[0m                                   Traceback (most recent call last)",
      "\u001b[1;32m<ipython-input-27-d3ca4a4e2283>\u001b[0m in \u001b[0;36m<module>\u001b[1;34m()\u001b[0m\n\u001b[0;32m      1\u001b[0m \u001b[1;32mimport\u001b[0m \u001b[0mos\u001b[0m\u001b[1;33m\u001b[0m\u001b[0m\n\u001b[1;32m----> 2\u001b[1;33m \u001b[0mos\u001b[0m\u001b[1;33m.\u001b[0m\u001b[0mchdir\u001b[0m\u001b[1;33m(\u001b[0m\u001b[1;34m'\\home\\codeblocks'\u001b[0m\u001b[1;33m)\u001b[0m\u001b[1;33m\u001b[0m\u001b[0m\n\u001b[0m",
      "\u001b[1;31mOSError\u001b[0m: [Errno 2] No such file or directory: '\\\\home\\\\codeblocks'"
     ]
    }
   ],
   "source": [
    "import os\n",
    "os.chdir('\\home\\codeblocks')"
   ]
  },
  {
   "cell_type": "code",
   "execution_count": 24,
   "metadata": {
    "collapsed": true
   },
   "outputs": [],
   "source": [
    "out=open('NewResume','wb')"
   ]
  },
  {
   "cell_type": "code",
   "execution_count": 25,
   "metadata": {
    "collapsed": true
   },
   "outputs": [],
   "source": [
    "writer.write(out)"
   ]
  },
  {
   "cell_type": "code",
   "execution_count": 28,
   "metadata": {
    "collapsed": false
   },
   "outputs": [
    {
     "data": {
      "text/plain": [
       "'/home/codeblocks/Downloads'"
      ]
     },
     "execution_count": 28,
     "metadata": {},
     "output_type": "execute_result"
    }
   ],
   "source": [
    "os.getcwd()"
   ]
  },
  {
   "cell_type": "code",
   "execution_count": 29,
   "metadata": {
    "collapsed": true
   },
   "outputs": [
    {
     "ename": "OSError",
     "evalue": "[Errno 2] No such file or directory: '\\\\home\\\\codeblocks'",
     "output_type": "error",
     "traceback": [
      "\u001b[1;31m---------------------------------------------------------------------------\u001b[0m",
      "\u001b[1;31mOSError\u001b[0m                                   Traceback (most recent call last)",
      "\u001b[1;32m<ipython-input-29-791910f8eff7>\u001b[0m in \u001b[0;36m<module>\u001b[1;34m()\u001b[0m\n\u001b[1;32m----> 1\u001b[1;33m \u001b[0mos\u001b[0m\u001b[1;33m.\u001b[0m\u001b[0mchdir\u001b[0m\u001b[1;33m(\u001b[0m\u001b[1;34m'\\home\\codeblocks'\u001b[0m\u001b[1;33m)\u001b[0m\u001b[1;33m\u001b[0m\u001b[0m\n\u001b[0m",
      "\u001b[1;31mOSError\u001b[0m: [Errno 2] No such file or directory: '\\\\home\\\\codeblocks'"
     ]
    }
   ],
   "source": []
  },
  {
   "cell_type": "code",
   "execution_count": null,
   "metadata": {
    "collapsed": true
   },
   "outputs": [],
   "source": []
  },
  {
   "cell_type": "code",
   "execution_count": null,
   "metadata": {
    "collapsed": true
   },
   "outputs": [],
   "source": []
  }
 ],
 "metadata": {
  "kernelspec": {
   "display_name": "Python 2",
   "language": "python",
   "name": "python2"
  },
  "language_info": {
   "codemirror_mode": {
    "name": "ipython",
    "version": 2
   },
   "file_extension": ".py",
   "mimetype": "text/x-python",
   "name": "python",
   "nbconvert_exporter": "python",
   "pygments_lexer": "ipython2",
   "version": "2.7.12"
  }
 },
 "nbformat": 4,
 "nbformat_minor": 0
}
