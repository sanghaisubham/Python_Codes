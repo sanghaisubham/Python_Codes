{
 "cells": [
  {
   "cell_type": "code",
   "execution_count": 1,
   "metadata": {
    "collapsed": false
   },
   "outputs": [
    {
     "ename": "SyntaxError",
     "evalue": "invalid syntax (<ipython-input-1-33dee1fbbc33>, line 13)",
     "output_type": "error",
     "traceback": [
      "\u001b[1;36m  File \u001b[1;32m\"<ipython-input-1-33dee1fbbc33>\"\u001b[1;36m, line \u001b[1;32m13\u001b[0m\n\u001b[1;33m    \u001b[0m\n\u001b[1;37m    ^\u001b[0m\n\u001b[1;31mSyntaxError\u001b[0m\u001b[1;31m:\u001b[0m invalid syntax\n"
     ]
    }
   ],
   "source": [
    "import urlib2 #The urllib2 module defines functions and classes which help in opening URLs (mostly HTTP) in a complex world — basic and digest authentication, redirections, cookies and more.\n",
    "import urllib #urllib is a package that collects several modules for working with URLs\n",
    "import os\n",
    "import re\n",
    "import MYSQLdb #MySQLdb is an interface for connecting to a MySQL database server from Python\n",
    "import Image\n",
    "count=1\n",
    "dirpath=''\n",
    "\n",
    "try:\n",
    "    db=MYSQLdb.connect(\"127.0.0.1\",\"root\",\"root\",\"imagecrawler\") #Open database connection\n",
    "    c1=db.cursor() # prepare a cursor object using cursor() method\n",
    "except Exception: print 'Error in Connection'\n",
    "\n",
    "def func(urla):\n",
    "    global c1\n",
    "    global count\n",
    "    try:\n",
    "        html=urllib.urlopen(urla)\n",
    "        imgread(urla)\n",
    "        lines=htl.readlines()\n",
    "        for line in lines:\n",
    "            pat=r'<a.*href=\"(https?:[\\w\\s!#$%&()*+,\\-./:;<=>?@[\\\\\\]^_`{|}~]*)'\n",
    "            m=re.findall(pat,line)\n",
    "            if m:\n",
    "                try:\n",
    "                    c1.execute()\n",
    "    "
   ]
  },
  {
   "cell_type": "code",
   "execution_count": null,
   "metadata": {
    "collapsed": true
   },
   "outputs": [],
   "source": []
  }
 ],
 "metadata": {
  "kernelspec": {
   "display_name": "Python 2",
   "language": "python",
   "name": "python2"
  },
  "language_info": {
   "codemirror_mode": {
    "name": "ipython",
    "version": 2
   },
   "file_extension": ".py",
   "mimetype": "text/x-python",
   "name": "python",
   "nbconvert_exporter": "python",
   "pygments_lexer": "ipython2",
   "version": "2.7.12"
  }
 },
 "nbformat": 4,
 "nbformat_minor": 0
}
