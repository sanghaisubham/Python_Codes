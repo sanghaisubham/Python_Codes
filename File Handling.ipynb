{
 "cells": [
  {
   "cell_type": "markdown",
   "metadata": {},
   "source": [
    "## Doubts: Relative and Absolute Paths"
   ]
  },
  {
   "cell_type": "code",
   "execution_count": 1,
   "metadata": {
    "collapsed": false
   },
   "outputs": [
    {
     "data": {
      "text/plain": [
       "'folder1/folder2/folder3/a.png/b.txt'"
      ]
     },
     "execution_count": 1,
     "metadata": {},
     "output_type": "execute_result"
    }
   ],
   "source": [
    "import os\n",
    "os.path.join('folder1','folder2','folder3','a.png','b.txt')"
   ]
  },
  {
   "cell_type": "code",
   "execution_count": 2,
   "metadata": {
    "collapsed": false
   },
   "outputs": [
    {
     "data": {
      "text/plain": [
       "'/'"
      ]
     },
     "execution_count": 2,
     "metadata": {},
     "output_type": "execute_result"
    }
   ],
   "source": [
    "import os\n",
    "os.sep"
   ]
  },
  {
   "cell_type": "code",
   "execution_count": 7,
   "metadata": {
    "collapsed": false
   },
   "outputs": [
    {
     "data": {
      "text/plain": [
       "'/home/codeblocks'"
      ]
     },
     "execution_count": 7,
     "metadata": {},
     "output_type": "execute_result"
    }
   ],
   "source": [
    "os.getcwd()"
   ]
  },
  {
   "cell_type": "code",
   "execution_count": 4,
   "metadata": {
    "collapsed": true
   },
   "outputs": [],
   "source": [
    "os.chdir('/home/codeblocks/Downloads')"
   ]
  },
  {
   "cell_type": "code",
   "execution_count": 6,
   "metadata": {
    "collapsed": false
   },
   "outputs": [
    {
     "data": {
      "text/plain": [
       "'/home/codeblocks'"
      ]
     },
     "execution_count": 6,
     "metadata": {},
     "output_type": "execute_result"
    }
   ],
   "source": [
    "os.getcwd()\n",
    "os.chdir('/home/codeblocks')\n",
    "os.getcwd()\n"
   ]
  },
  {
   "cell_type": "code",
   "execution_count": 56,
   "metadata": {
    "collapsed": true
   },
   "outputs": [],
   "source": [
    "os.chdir('/media/codeblocks/ENTERTAIN')"
   ]
  },
  {
   "cell_type": "code",
   "execution_count": 72,
   "metadata": {
    "collapsed": false
   },
   "outputs": [
    {
     "data": {
      "text/plain": [
       "'/home/codeblocks/Downloads'"
      ]
     },
     "execution_count": 72,
     "metadata": {},
     "output_type": "execute_result"
    }
   ],
   "source": [
    "os.getcwd()"
   ]
  },
  {
   "cell_type": "code",
   "execution_count": 15,
   "metadata": {
    "collapsed": false
   },
   "outputs": [
    {
     "name": "stdout",
     "output_type": "stream",
     "text": [
      "/home/codeblocks/Prolog correct\n",
      "/home/codeblocks/Twin-Snake.cpp\n"
     ]
    }
   ],
   "source": [
    "print(os.path.abspath('Prolog correct'))\n",
    "print(os.path.abspath('Twin-Snake.cpp'))"
   ]
  },
  {
   "cell_type": "code",
   "execution_count": 12,
   "metadata": {
    "collapsed": false
   },
   "outputs": [
    {
     "name": "stdout",
     "output_type": "stream",
     "text": [
      "False\n",
      "True\n"
     ]
    }
   ],
   "source": [
    "\n",
    "print(os.path.isabs('home/codeblocks/Prolog correct'))\n",
    "print(os.path.isabs('/codeblocks'))\n"
   ]
  },
  {
   "cell_type": "code",
   "execution_count": 16,
   "metadata": {
    "collapsed": false
   },
   "outputs": [
    {
     "data": {
      "text/plain": [
       "'../../../codeblocks/Prolog correct'"
      ]
     },
     "execution_count": 16,
     "metadata": {},
     "output_type": "execute_result"
    }
   ],
   "source": [
    "import os\n",
    "os.path.relpath('/codeblocks/Prolog correct','a.cpp')"
   ]
  },
  {
   "cell_type": "code",
   "execution_count": 91,
   "metadata": {
    "collapsed": false
   },
   "outputs": [
    {
     "name": "stdout",
     "output_type": "stream",
     "text": [
      "home/codeblocks/Desktop\n",
      "Hello.txt\n"
     ]
    }
   ],
   "source": [
    "print(os.path.dirname('home/codeblocks/Desktop/Hello.txt'))\n",
    "print(os.path.basename('home/codeblocks/Desktop/Hello.txt'))"
   ]
  },
  {
   "cell_type": "code",
   "execution_count": 99,
   "metadata": {
    "collapsed": false
   },
   "outputs": [
    {
     "data": {
      "text/plain": [
       "['Day1_Presentation_updated.pptx',\n",
       " 'Day2_Programs.pptx',\n",
       " 'Day2_Presentation.pptx',\n",
       " 'Day1_Programs_updated.pptx']"
      ]
     },
     "execution_count": 99,
     "metadata": {},
     "output_type": "execute_result"
    }
   ],
   "source": [
    "os.listdir('/home/codeblocks/Downloads/Python IET')"
   ]
  },
  {
   "cell_type": "code",
   "execution_count": 102,
   "metadata": {
    "collapsed": false
   },
   "outputs": [
    {
     "data": {
      "text/plain": [
       "32768"
      ]
     },
     "execution_count": 102,
     "metadata": {},
     "output_type": "execute_result"
    }
   ],
   "source": [
    "os.path.getsize('/home/codeblocks/Downloads')"
   ]
  },
  {
   "cell_type": "code",
   "execution_count": 14,
   "metadata": {
    "collapsed": false
   },
   "outputs": [],
   "source": [
    "os.makedirs('/home/codeblocks/Downloads/MyFolder2') #Creating new folder"
   ]
  },
  {
   "cell_type": "code",
   "execution_count": 8,
   "metadata": {
    "collapsed": false
   },
   "outputs": [
    {
     "name": "stdout",
     "output_type": "stream",
     "text": [
      "Hey YA!!\n",
      "My  name is Subham SAnghai\n",
      "\n",
      "\n"
     ]
    },
    {
     "data": {
      "text/plain": [
       "'Hey YA!!\\nMy  name is Subham SAnghai\\n\\n'"
      ]
     },
     "execution_count": 8,
     "metadata": {},
     "output_type": "execute_result"
    }
   ],
   "source": [
    "fileobj=open('/home/codeblocks/Desktop/Hello.txt')\n",
    "print(fileobj.read())\n",
    "fileobj.close()\n",
    "fileobj=open('/home/codeblocks/Desktop/Hello.txt')\n",
    "fileobj.read() # See the difference when using and when not using print"
   ]
  },
  {
   "cell_type": "code",
   "execution_count": 9,
   "metadata": {
    "collapsed": false
   },
   "outputs": [],
   "source": [
    "fileobj=open('/home/codeblocks/Desktop/Hello2.txt','w')\n",
    "fileobj.write('HEllo .. wow Magic !!! :D ')\n"
   ]
  },
  {
   "cell_type": "code",
   "execution_count": 24,
   "metadata": {
    "collapsed": true
   },
   "outputs": [],
   "source": [
    "fileobj=open('/home/codeblocks/Desktop/Hello2.txt','w') # overwritten\n",
    "fileobj.write('Gone!!! \\n')"
   ]
  },
  {
   "cell_type": "code",
   "execution_count": 25,
   "metadata": {
    "collapsed": true
   },
   "outputs": [],
   "source": [
    "fileobj=open('/home/codeblocks/Desktop/Hello2.txt','a')\n",
    "fileobj.write('HEllo .. wow Magic !!! :D ') # Appended,not overwritten"
   ]
  },
  {
   "cell_type": "code",
   "execution_count": 18,
   "metadata": {
    "collapsed": false
   },
   "outputs": [],
   "source": [
    "import shelve\n",
    "shelf=shelve.open('Languages')\n",
    "shelf['Programming']=['Python','C','C++','java']"
   ]
  },
  {
   "cell_type": "code",
   "execution_count": 19,
   "metadata": {
    "collapsed": false
   },
   "outputs": [
    {
     "data": {
      "text/plain": [
       "['Python', 'C', 'C++', 'java']"
      ]
     },
     "execution_count": 19,
     "metadata": {},
     "output_type": "execute_result"
    }
   ],
   "source": [
    "shelf=shelve.open('Languages')\n",
    "shelf['Programming']"
   ]
  },
  {
   "cell_type": "code",
   "execution_count": 20,
   "metadata": {
    "collapsed": false
   },
   "outputs": [
    {
     "name": "stdout",
     "output_type": "stream",
     "text": [
      "['Python', 'C', 'C++', 'java']\n"
     ]
    }
   ],
   "source": [
    "\n",
    "for i in shelf.values():\n",
    " print i"
   ]
  },
  {
   "cell_type": "code",
   "execution_count": 29,
   "metadata": {
    "collapsed": false
   },
   "outputs": [
    {
     "data": {
      "text/plain": [
       "'/home/codeblocks'"
      ]
     },
     "execution_count": 29,
     "metadata": {},
     "output_type": "execute_result"
    }
   ],
   "source": [
    "os.getcwd()"
   ]
  },
  {
   "cell_type": "code",
   "execution_count": 25,
   "metadata": {
    "collapsed": false
   },
   "outputs": [],
   "source": [
    "import shutil\n",
    "shutil.copy('/home/codeblocks/Downloads/The Perks of Being a Wallflower (2012) 720p BRrip x264.mp4','/media/codeblocks/ENTERTAIN')"
   ]
  },
  {
   "cell_type": "code",
   "execution_count": 27,
   "metadata": {
    "collapsed": false
   },
   "outputs": [],
   "source": [
    "import shutil\n",
    "shutil.copytree('/home/codeblocks/Downloads/Python IET','/home/codeblocks/Downloads/Python IET Copy') #Argument 2 is the new folder location"
   ]
  },
  {
   "cell_type": "code",
   "execution_count": 29,
   "metadata": {
    "collapsed": false
   },
   "outputs": [],
   "source": [
    "import shutil\n",
    "shutil.move('/home/codeblocks/Downloads/The Perks of Being a Wallflower (2012) 720p BRrip x264.mp4','/media/codeblocks/ENTERTAIN')"
   ]
  },
  {
   "cell_type": "code",
   "execution_count": 30,
   "metadata": {
    "collapsed": true
   },
   "outputs": [],
   "source": [
    "import shutil\n",
    "shutil.move('/home/codeblocks/Downloads/MyFolder','/home/codeblocks/Downloads/MyFolder2')#Used as a Rename function,copying it to the same location with a different name"
   ]
  },
  {
   "cell_type": "code",
   "execution_count": 31,
   "metadata": {
    "collapsed": false
   },
   "outputs": [
    {
     "ename": "OSError",
     "evalue": "[Errno 21] Is a directory: '/home/codeblocks/Downloads/MyFolder2'",
     "output_type": "error",
     "traceback": [
      "\u001b[1;31m---------------------------------------------------------------------------\u001b[0m",
      "\u001b[1;31mOSError\u001b[0m                                   Traceback (most recent call last)",
      "\u001b[1;32m<ipython-input-31-b82bb3ec7ca7>\u001b[0m in \u001b[0;36m<module>\u001b[1;34m()\u001b[0m\n\u001b[1;32m----> 1\u001b[1;33m \u001b[0mos\u001b[0m\u001b[1;33m.\u001b[0m\u001b[0munlink\u001b[0m\u001b[1;33m(\u001b[0m\u001b[1;34m'/home/codeblocks/Downloads/MyFolder2'\u001b[0m\u001b[1;33m)\u001b[0m\u001b[1;33m\u001b[0m\u001b[0m\n\u001b[0m",
      "\u001b[1;31mOSError\u001b[0m: [Errno 21] Is a directory: '/home/codeblocks/Downloads/MyFolder2'"
     ]
    }
   ],
   "source": [
    "os.unlink('/home/codeblocks/Downloads/MyFolder2')"
   ]
  },
  {
   "cell_type": "code",
   "execution_count": 32,
   "metadata": {
    "collapsed": true
   },
   "outputs": [],
   "source": [
    "os.rmdir('/home/codeblocks/Downloads/MyFolder2') # Delete Permanently and folder should be empty"
   ]
  },
  {
   "cell_type": "code",
   "execution_count": 35,
   "metadata": {
    "collapsed": false
   },
   "outputs": [],
   "source": [
    "shutil.rmtree('/home/codeblocks/Downloads/Delete This!!')"
   ]
  },
  {
   "cell_type": "code",
   "execution_count": 37,
   "metadata": {
    "collapsed": false
   },
   "outputs": [],
   "source": [
    "import send2trash\n",
    "send2trash.send2trash('/home/codeblocks/Downloads/Python IET Copy')"
   ]
  },
  {
   "cell_type": "code",
   "execution_count": 47,
   "metadata": {
    "collapsed": false
   },
   "outputs": [
    {
     "name": "stdout",
     "output_type": "stream",
     "text": [
      "The folder Name is :/home/codeblocks/Downloads/MUP\n",
      "The subfolderNames are :['muplab solutions']\n",
      "The filename is: Microprocessor Application Lab List of problems.docx\n",
      "\n",
      "The folder Name is :/home/codeblocks/Downloads/MUP/muplab solutions\n",
      "The subfolderNames are :[]\n",
      "The filename is: 33.85\n",
      "\n",
      "The filename is: add two 10 byte nos..85\n",
      "\n",
      "The filename is: prog33-replacing-trailing-zeros.txt\n",
      "\n",
      "The filename is: 11a.85\n",
      "\n",
      "The filename is: prog24-sorting-signed-bytes-asc.txt\n",
      "\n",
      "The filename is: prog28-ff-pairs.txt\n",
      "\n",
      "The filename is: mul of 1 byte by 2 byte.85\n",
      "\n",
      "The filename is: 128 location's modification.85\n",
      "\n",
      "The filename is: sort in descending order mod.2.85\n",
      "\n",
      "The filename is: 25.85\n",
      "\n",
      "The filename is: add 18 bcd nos.-(2).85\n",
      "\n",
      "The filename is: BuBbLe sOrT.85\n",
      "\n",
      "The filename is: PROGASCEDSC.85\n",
      "\n",
      "The filename is: 128 locations.85\n",
      "\n",
      "The filename is: add 12 bytes mod.85\n",
      "\n",
      "The filename is: Run 16000 lines.85\n",
      "\n",
      "The filename is: add two 20-digit bcd nos.85\n",
      "\n",
      "The filename is: add 18 bcd nos..85\n",
      "\n",
      "The filename is: prog11-sort-even-odd-parity.txt\n",
      "\n",
      "The filename is: prog37-ascii-to-byte.txt\n",
      "\n",
      "The filename is: 9]add two 20 digit bcd nos..85\n",
      "\n",
      "The filename is: prog23-sorting-signed-bytes-desc.txt\n",
      "\n",
      "The filename is: 17]convertion of nibble to ascii code.85\n",
      "\n",
      "The filename is: 29.85\n",
      "\n",
      "The filename is: 13]bcd to binary.85\n",
      "\n",
      "The filename is: 30.85\n",
      "\n",
      "The filename is: highest and lowest.85\n",
      "\n",
      "The filename is: 31.85\n",
      "\n",
      "The filename is: prog08-add-two-10byte-numbers.txt\n",
      "\n",
      "The filename is: prog38-insertion-to-list.txt\n",
      "\n",
      "The filename is: sort in descending modification.85\n",
      "\n",
      "The filename is: 10.85\n",
      "\n",
      "The filename is: 18]no. of bits in bytes.85\n",
      "\n",
      "The filename is: prog27-three-alternate-blocks.txt\n",
      "\n",
      "The filename is: prog10-bcd-subtraction.txt\n",
      "\n",
      "The filename is: sort in descending order.85\n",
      "\n",
      "The filename is: 1111.85\n",
      "\n",
      "The filename is: prog22-binary-division.txt\n",
      "\n",
      "The filename is: mul of 1 byte by 1 byte.85\n",
      "\n",
      "The filename is: BuBbLe sOrT2.85\n",
      "\n",
      "The filename is: prog12-binary-to-bcd.txt\n",
      "\n",
      "The filename is: prog36-ascii-to-hex.txt\n",
      "\n",
      "The filename is: prog19-largest-smallest-byte.txt\n",
      "\n",
      "The filename is: Fibonacci series.85\n",
      "\n",
      "The filename is: 28.85\n",
      "\n",
      "The filename is: Lightning !.85\n",
      "\n",
      "The filename is: bcd.85\n",
      "\n",
      "The filename is: prog04-add-12-bytes.txt\n",
      "\n",
      "The filename is: 22.85\n",
      "\n",
      "The filename is: 11.85\n",
      "\n",
      "The filename is: add of two 10 byte nos..85\n",
      "\n",
      "The filename is: 16]logical operation.85\n",
      "\n",
      "The filename is: prog09-add-two-20digit-bcd-numbers.txt\n",
      "\n",
      "The filename is: prog16-logical-operations.txt\n",
      "\n",
      "The filename is: 26.85\n",
      "\n",
      "The filename is: 27.85\n",
      "\n",
      "The filename is: prog29-identical-data.txt\n",
      "\n",
      "The filename is: add 12 bytes.85\n",
      "\n",
      "The filename is: 32.85\n",
      "\n",
      "The filename is: prog14-grouping.txt\n",
      "\n"
     ]
    }
   ],
   "source": [
    "for foldername,subfoldername,filenames in os.walk('/home/codeblocks/Downloads/MUP'):\n",
    " print('The folder Name is :'+foldername)\n",
    " print('The subfolderNames are :'+str(subfoldername))\n",
    " for i in filenames:\n",
    "  print('The filename is: '+i+'\\n')"
   ]
  },
  {
   "cell_type": "code",
   "execution_count": null,
   "metadata": {
    "collapsed": true
   },
   "outputs": [],
   "source": []
  }
 ],
 "metadata": {
  "kernelspec": {
   "display_name": "Python 2",
   "language": "python",
   "name": "python2"
  },
  "language_info": {
   "codemirror_mode": {
    "name": "ipython",
    "version": 2
   },
   "file_extension": ".py",
   "mimetype": "text/x-python",
   "name": "python",
   "nbconvert_exporter": "python",
   "pygments_lexer": "ipython2",
   "version": "2.7.12"
  }
 },
 "nbformat": 4,
 "nbformat_minor": 0
}
