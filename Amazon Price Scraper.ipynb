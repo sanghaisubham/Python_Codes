{
 "cells": [
  {
   "cell_type": "code",
   "execution_count": 1,
   "metadata": {
    "collapsed": false
   },
   "outputs": [
    {
     "ename": "IndexError",
     "evalue": "list index out of range",
     "output_type": "error",
     "traceback": [
      "\u001b[1;31m---------------------------------------------------------------------------\u001b[0m",
      "\u001b[1;31mIndexError\u001b[0m                                Traceback (most recent call last)",
      "\u001b[1;32m<ipython-input-1-90f884fb74ba>\u001b[0m in \u001b[0;36m<module>\u001b[1;34m()\u001b[0m\n\u001b[0;32m      8\u001b[0m     \u001b[1;32mreturn\u001b[0m \u001b[0melems\u001b[0m\u001b[1;33m[\u001b[0m\u001b[1;36m0\u001b[0m\u001b[1;33m]\u001b[0m\u001b[1;33m.\u001b[0m\u001b[0mtext\u001b[0m\u001b[1;33m.\u001b[0m\u001b[0mstrip\u001b[0m\u001b[1;33m(\u001b[0m\u001b[1;33m)\u001b[0m\u001b[1;33m\u001b[0m\u001b[0m\n\u001b[0;32m      9\u001b[0m \u001b[1;33m\u001b[0m\u001b[0m\n\u001b[1;32m---> 10\u001b[1;33m \u001b[0mprice\u001b[0m\u001b[1;33m=\u001b[0m\u001b[0mgetAmazonPrice\u001b[0m\u001b[1;33m(\u001b[0m\u001b[1;34m'http://www.amazon.in/Sony-MDR-EX150AP1-Headphones-Special-Black/dp/B01M09A7IL/ref=sr_1_fkmr0_4?ie=UTF8&qid=1481659349&sr=8-4-fkmr0&keywords=sony+inear+earphones+MDREX14'\u001b[0m\u001b[1;33m)\u001b[0m\u001b[1;33m\u001b[0m\u001b[0m\n\u001b[0m\u001b[0;32m     11\u001b[0m \u001b[1;32mprint\u001b[0m\u001b[1;33m(\u001b[0m\u001b[1;34m'The price is:'\u001b[0m\u001b[1;33m+\u001b[0m\u001b[0mprice\u001b[0m\u001b[1;33m)\u001b[0m\u001b[1;33m\u001b[0m\u001b[0m\n",
      "\u001b[1;32m<ipython-input-1-90f884fb74ba>\u001b[0m in \u001b[0;36mgetAmazonPrice\u001b[1;34m(URL)\u001b[0m\n\u001b[0;32m      6\u001b[0m     \u001b[0melems\u001b[0m\u001b[1;33m=\u001b[0m\u001b[0msoup\u001b[0m\u001b[1;33m.\u001b[0m\u001b[0mselect\u001b[0m\u001b[1;33m(\u001b[0m\u001b[1;34m'#priceblock_ourprice'\u001b[0m\u001b[1;33m)\u001b[0m\u001b[1;33m\u001b[0m\u001b[0m\n\u001b[0;32m      7\u001b[0m     \u001b[1;31m#print elems.len()\u001b[0m\u001b[1;33m\u001b[0m\u001b[1;33m\u001b[0m\u001b[0m\n\u001b[1;32m----> 8\u001b[1;33m     \u001b[1;32mreturn\u001b[0m \u001b[0melems\u001b[0m\u001b[1;33m[\u001b[0m\u001b[1;36m0\u001b[0m\u001b[1;33m]\u001b[0m\u001b[1;33m.\u001b[0m\u001b[0mtext\u001b[0m\u001b[1;33m.\u001b[0m\u001b[0mstrip\u001b[0m\u001b[1;33m(\u001b[0m\u001b[1;33m)\u001b[0m\u001b[1;33m\u001b[0m\u001b[0m\n\u001b[0m\u001b[0;32m      9\u001b[0m \u001b[1;33m\u001b[0m\u001b[0m\n\u001b[0;32m     10\u001b[0m \u001b[0mprice\u001b[0m\u001b[1;33m=\u001b[0m\u001b[0mgetAmazonPrice\u001b[0m\u001b[1;33m(\u001b[0m\u001b[1;34m'http://www.amazon.in/Sony-MDR-EX150AP1-Headphones-Special-Black/dp/B01M09A7IL/ref=sr_1_fkmr0_4?ie=UTF8&qid=1481659349&sr=8-4-fkmr0&keywords=sony+inear+earphones+MDREX14'\u001b[0m\u001b[1;33m)\u001b[0m\u001b[1;33m\u001b[0m\u001b[0m\n",
      "\u001b[1;31mIndexError\u001b[0m: list index out of range"
     ]
    }
   ],
   "source": [
    "import bs4,requests,sys\n",
    "def getAmazonPrice(URL):\n",
    "    res=requests.get(URL) #To Download that particular WebPage\n",
    "    #res.raise_for_status()#Raise an Exception in Case of a Error or problem in Downloading\n",
    "    soup=bs4.BeautifulSoup(res.text,'html.parser')\n",
    "    elems=soup.select('#priceblock_ourprice')\n",
    "    #print elems.len()\n",
    "    return elems[0].text.strip()\n",
    "    \n",
    "price=getAmazonPrice('http://www.amazon.in/Sony-MDR-EX150AP1-Headphones-Special-Black/dp/B01M09A7IL/ref=sr_1_fkmr0_4?ie=UTF8&qid=1481659349&sr=8-4-fkmr0&keywords=sony+inear+earphones+MDREX14')\n",
    "print('The price is:'+price)"
   ]
  },
  {
   "cell_type": "code",
   "execution_count": null,
   "metadata": {
    "collapsed": true
   },
   "outputs": [],
   "source": []
  }
 ],
 "metadata": {
  "kernelspec": {
   "display_name": "Python 2",
   "language": "python",
   "name": "python2"
  },
  "language_info": {
   "codemirror_mode": {
    "name": "ipython",
    "version": 2
   },
   "file_extension": ".py",
   "mimetype": "text/x-python",
   "name": "python",
   "nbconvert_exporter": "python",
   "pygments_lexer": "ipython2",
   "version": "2.7.12"
  }
 },
 "nbformat": 4,
 "nbformat_minor": 0
}
