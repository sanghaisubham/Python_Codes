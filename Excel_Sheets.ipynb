{
 "cells": [
  {
   "cell_type": "markdown",
   "metadata": {},
   "source": [
    "# Creating Sheets "
   ]
  },
  {
   "cell_type": "code",
   "execution_count": 3,
   "metadata": {
    "collapsed": false
   },
   "outputs": [],
   "source": [
    "import openpyxl\n",
    "import os\n",
    "os.chdir('/home/codeblocks/Downloads')"
   ]
  },
  {
   "cell_type": "code",
   "execution_count": 5,
   "metadata": {
    "collapsed": false
   },
   "outputs": [
    {
     "data": {
      "text/plain": [
       "'/home/codeblocks/Downloads'"
      ]
     },
     "execution_count": 5,
     "metadata": {},
     "output_type": "execute_result"
    }
   ],
   "source": [
    "os.getcwd()"
   ]
  },
  {
   "cell_type": "code",
   "execution_count": 7,
   "metadata": {
    "collapsed": false
   },
   "outputs": [],
   "source": [
    "workbook=openpyxl.load_workbook('Shortlist(9).xlsx')"
   ]
  },
  {
   "cell_type": "code",
   "execution_count": 8,
   "metadata": {
    "collapsed": false
   },
   "outputs": [
    {
     "data": {
      "text/plain": [
       "openpyxl.workbook.workbook.Workbook"
      ]
     },
     "execution_count": 8,
     "metadata": {},
     "output_type": "execute_result"
    }
   ],
   "source": [
    "type(workbook)"
   ]
  },
  {
   "cell_type": "code",
   "execution_count": 9,
   "metadata": {
    "collapsed": true
   },
   "outputs": [],
   "source": [
    "sheet=workbook.get_sheet_by_name('Sheet1')"
   ]
  },
  {
   "cell_type": "code",
   "execution_count": 10,
   "metadata": {
    "collapsed": false
   },
   "outputs": [
    {
     "data": {
      "text/plain": [
       "openpyxl.worksheet.worksheet.Worksheet"
      ]
     },
     "execution_count": 10,
     "metadata": {},
     "output_type": "execute_result"
    }
   ],
   "source": [
    "type(sheet)"
   ]
  },
  {
   "cell_type": "code",
   "execution_count": 11,
   "metadata": {
    "collapsed": false
   },
   "outputs": [
    {
     "data": {
      "text/plain": [
       "['Sheet1', 'Sheet2', 'Sheet3']"
      ]
     },
     "execution_count": 11,
     "metadata": {},
     "output_type": "execute_result"
    }
   ],
   "source": [
    "workbook.get_sheet_names()"
   ]
  },
  {
   "cell_type": "code",
   "execution_count": 16,
   "metadata": {
    "collapsed": true
   },
   "outputs": [],
   "source": [
    "cell=sheet['A2']"
   ]
  },
  {
   "cell_type": "code",
   "execution_count": 17,
   "metadata": {
    "collapsed": false
   },
   "outputs": [
    {
     "data": {
      "text/plain": [
       "1"
      ]
     },
     "execution_count": 17,
     "metadata": {},
     "output_type": "execute_result"
    }
   ],
   "source": [
    "cell.value"
   ]
  },
  {
   "cell_type": "code",
   "execution_count": 15,
   "metadata": {
    "collapsed": false
   },
   "outputs": [
    {
     "data": {
      "text/plain": [
       "u'IBMGBSG67004'"
      ]
     },
     "execution_count": 15,
     "metadata": {},
     "output_type": "execute_result"
    }
   ],
   "source": [
    "sheet['B5'].value"
   ]
  },
  {
   "cell_type": "code",
   "execution_count": 19,
   "metadata": {
    "collapsed": false
   },
   "outputs": [
    {
     "data": {
      "text/plain": [
       "<Cell Sheet1.A1>"
      ]
     },
     "execution_count": 19,
     "metadata": {},
     "output_type": "execute_result"
    }
   ],
   "source": [
    "sheet.cell(row=1,column=1)"
   ]
  },
  {
   "cell_type": "code",
   "execution_count": 22,
   "metadata": {
    "collapsed": false
   },
   "outputs": [
    {
     "data": {
      "text/plain": [
       "u'IBMGBSG67009'"
      ]
     },
     "execution_count": 22,
     "metadata": {},
     "output_type": "execute_result"
    }
   ],
   "source": [
    "sheet.cell(row=10,column=2).value"
   ]
  },
  {
   "cell_type": "code",
   "execution_count": 51,
   "metadata": {
    "collapsed": false
   },
   "outputs": [
    {
     "name": "stdout",
     "output_type": "stream",
     "text": [
      "1 Praful Kumar\n",
      "2 Shashank Bankiwal\n",
      "3 Aman Juyal\n",
      "4 Prakhar Rai Maheshwari\n",
      "5 Peeyush Gupta\n",
      "6 Kritika Sinha\n",
      "7 Deeksha\n",
      "8 Sakshi Ranjan\n",
      "9 Ambika Soni\n",
      "10 Jyoti Kumari\n",
      "11 Rishabh\n",
      "12 Ankur Chaudhary\n",
      "13 Ranjan Kumar\n",
      "14 Sonu Kumar\n",
      "15 Rupesh Kumar\n",
      "16 Jeetu Newar\n",
      "17 Vikas Kumar Thakur\n",
      "18 Nitesh Kumar Rajwar\n",
      "19 Gaurav Tigga\n",
      "20 Nilesh Kumar Sahu\n",
      "21 Sharad Kumar Choudhary\n",
      "22 Sohini Ghosh\n",
      "23 Ashwin Bara\n",
      "24 Kunal Kishore\n",
      "25 Subham Kumar\n",
      "26 Abhishek Kumar\n",
      "27 Ujjwal Kushwaha\n",
      "28 Mukund Kumar\n",
      "29 Munmun Sharma\n",
      "30 Ashish Srivastava\n",
      "31 Ketan Singh\n",
      "32 Rahul Bhardwaj\n",
      "33 Satyajit\n",
      "34 Ravi Kumar Tiwari\n",
      "35 Garima Kumari\n",
      "36 Santosh Kumar Yadav\n",
      "37 Rahul Kumar\n",
      "38 Pawan Kumar\n",
      "39 Darshana\n",
      "40 Gangadhar Kumar\n",
      "41 Faiyaz Alam\n",
      "42 Akanksha\n",
      "43 Md Zakir Hussain\n",
      "44 Arajuddin Khan\n",
      "45 Priyanshu Raj\n",
      "46 Trayambak Tanmay\n",
      "47 Prabhat Kumar Vidyarthi\n",
      "48 Deepak Kumar Sahu\n",
      "49 Rahul Patel\n",
      "50 Amit Kumar\n",
      "51 Saket Kumar\n",
      "52 Md Yasir Jilani\n",
      "53 Sushmita Kujur\n",
      "54 Nikhil Goyal\n",
      "55 Vikash Kumar\n",
      "56 Saurabh Lavania\n",
      "57 Priyank Jain\n",
      "58 Arti Ahir\n",
      "59 Shreyanshi Parnami\n",
      "60 Bhavya Vineer\n",
      "61 Rohit Taxak\n",
      "62 Maddineni Vamsichaitanya\n",
      "63 Pooja Khetawat\n",
      "64 Vijeta Shalini\n",
      "65 Saket Sourabh\n",
      "66 Manish Kumar\n",
      "67 Nishant Sagar\n",
      "68 Ankit Kumar\n",
      "69 Vinita Mardi\n",
      "70 Sumit Kumar Chandravanshi\n",
      "71 Aishwarya Shalini\n",
      "72 Pinky Kumari\n",
      "73 Surbhi Sinha\n",
      "74 Akash Sinha\n",
      "75 Shivjee Patel\n",
      "76 Sumit Kumar Rai\n",
      "77 Shilpa Surin\n",
      "78 Seemant Kumar\n",
      "79 Shailendra Kumar\n",
      "80 Kumari Swati\n",
      "81 Kumari Vijeeta Bandana\n",
      "82 Abhishek Tiwari\n",
      "83 Vidisha Singh\n",
      "84 Ritesh Kumar\n",
      "85 Amir Ahmad\n",
      "86 Ankan Dutta\n",
      "87 Abhilasha\n",
      "88 Chandan Kumar\n",
      "89 Atul Kumar Karn\n",
      "90 Md Danish\n",
      "91 Tannu Shree\n",
      "92 Bikky Kumar Sah\n",
      "93 Akhilesh Kumar\n",
      "94 Shubham Krishnan\n",
      "95 Khushboo Kumari\n",
      "96 Jayant Prabir Minj\n",
      "97 Dharm Prakash Arya\n",
      "98 Anusha Vandana Ekka\n",
      "99 Vijay Kumar Thakur\n",
      "100 Alok Kumar\n",
      "101 Manish Kumar\n",
      "102 Abhinav Ashish\n",
      "103 Rahul Kumar Paswan\n",
      "104 Khushbu Rani\n",
      "105 Alok Ranjan\n",
      "106 Anshu Aman\n",
      "107 Anisha Mukherjee\n",
      "108 Shrishty Gautam\n",
      "109 Deepika Maheshwari\n",
      "110 Ragini Kumari\n",
      "111 Ankur Priyadarshi\n",
      "112 Prerna Alok\n",
      "113 Kunal Verma\n",
      "114 Sushmita Kumari\n",
      "115 Ashwini Kumar\n",
      "116 Swarsha Kashyap\n",
      "117 Spardha Gupta\n",
      "118 Sushmita\n",
      "119 Vani Lamba\n",
      "120 Rakhi Kumari\n",
      "121 Pratibha Sharma\n",
      "122 Gurkirat Kaur\n",
      "123 Rohini Kumari\n",
      "124 Divya Jha\n",
      "125 Kumari Sanjana\n",
      "126 Shubhrata Sayoni\n",
      "127 Shalini Suman Singh\n",
      "128 Prachi\n",
      "129 Ruchita\n",
      "130 Kiran Kumari\n",
      "131 Anand Prakash Arya\n",
      "132 Smriti\n",
      "133 Pooja Agarwal\n",
      "134 Rahul Kumar\n",
      "135 Abhishek\n",
      "136 Shubham Chugh\n",
      "137 Rohini Priya\n",
      "138 Ratnakar Pandey\n",
      "139 Urmimala Chowdhury\n",
      "140 Rajni Kumari\n",
      "141 Shivi Shivangi\n",
      "142 Anchal Goel\n",
      "143 Quamar Jahan\n",
      "144 Nitesh Kumar Gupta\n",
      "145 Saad Ahmed Khan\n",
      "146 Kanak Verma\n",
      "147 Chiranjeev Kumar\n",
      "148 Sintu Kumar\n",
      "149 Astha Preeti\n",
      "150 Amit Ranjan\n",
      "151 Rahul Kumar\n",
      "152 Abhishek Yadav\n",
      "153 Disha Taunk\n",
      "154 Vinod Kumar\n",
      "155 Supriya Pallavi Samad\n",
      "156 Brijesh Kumar Maurya\n",
      "157 Diksha Rani\n",
      "158 Ankita Singh\n",
      "159 Priyabrata Chakraverti\n",
      "160 Souvik Ghosh\n",
      "161 NIDHI KUMARI\n",
      "162 AISHWARYA KUMARI\n"
     ]
    }
   ],
   "source": [
    "for i in range(2,1000,):\n",
    "    if(sheet.cell(row=i,column=3).value)==None:\n",
    "     break\n",
    "    print(str(i-1)+' '+sheet.cell(row=i,column=3).value)"
   ]
  },
  {
   "cell_type": "code",
   "execution_count": 78,
   "metadata": {
    "collapsed": false
   },
   "outputs": [],
   "source": [
    "os.chdir('/home/codeblocks')"
   ]
  },
  {
   "cell_type": "markdown",
   "metadata": {},
   "source": [
    "# Editing Sheets"
   ]
  },
  {
   "cell_type": "code",
   "execution_count": 54,
   "metadata": {
    "collapsed": true
   },
   "outputs": [],
   "source": [
    "wb=openpyxl.Workbook()"
   ]
  },
  {
   "cell_type": "code",
   "execution_count": 56,
   "metadata": {
    "collapsed": false
   },
   "outputs": [
    {
     "data": {
      "text/plain": [
       "['Sheet']"
      ]
     },
     "execution_count": 56,
     "metadata": {},
     "output_type": "execute_result"
    }
   ],
   "source": [
    "wb.get_sheet_names()"
   ]
  },
  {
   "cell_type": "code",
   "execution_count": 58,
   "metadata": {
    "collapsed": false
   },
   "outputs": [],
   "source": [
    "sheet=wb.get_sheet_by_name('Sheet')"
   ]
  },
  {
   "cell_type": "code",
   "execution_count": 59,
   "metadata": {
    "collapsed": true
   },
   "outputs": [],
   "source": [
    "sheet['A1']='Subham'"
   ]
  },
  {
   "cell_type": "code",
   "execution_count": 60,
   "metadata": {
    "collapsed": true
   },
   "outputs": [],
   "source": [
    "sheet['A2']='Sanghai'"
   ]
  },
  {
   "cell_type": "code",
   "execution_count": 62,
   "metadata": {
    "collapsed": true
   },
   "outputs": [],
   "source": [
    "wb.save('Test_Excel.xlsx')"
   ]
  },
  {
   "cell_type": "code",
   "execution_count": 63,
   "metadata": {
    "collapsed": true
   },
   "outputs": [],
   "source": [
    "sheet['A3']='Python'"
   ]
  },
  {
   "cell_type": "code",
   "execution_count": 64,
   "metadata": {
    "collapsed": true
   },
   "outputs": [],
   "source": [
    "wb.save('Test_Excel.xlsx')"
   ]
  },
  {
   "cell_type": "code",
   "execution_count": 65,
   "metadata": {
    "collapsed": true
   },
   "outputs": [],
   "source": [
    "sheet2=wb.create_sheet()"
   ]
  },
  {
   "cell_type": "code",
   "execution_count": 66,
   "metadata": {
    "collapsed": true
   },
   "outputs": [],
   "source": [
    "wb.save('Test_Excel.xlsx')"
   ]
  },
  {
   "cell_type": "code",
   "execution_count": 67,
   "metadata": {
    "collapsed": true
   },
   "outputs": [],
   "source": [
    "sheet2.title='My Sheet 2'"
   ]
  },
  {
   "cell_type": "code",
   "execution_count": 68,
   "metadata": {
    "collapsed": true
   },
   "outputs": [],
   "source": [
    "wb.save('Test_Excel.xlsx')"
   ]
  },
  {
   "cell_type": "code",
   "execution_count": 69,
   "metadata": {
    "collapsed": false
   },
   "outputs": [
    {
     "data": {
      "text/plain": [
       "['Sheet', 'My Sheet 2']"
      ]
     },
     "execution_count": 69,
     "metadata": {},
     "output_type": "execute_result"
    }
   ],
   "source": [
    "wb.get_sheet_names()"
   ]
  },
  {
   "cell_type": "code",
   "execution_count": 70,
   "metadata": {
    "collapsed": true
   },
   "outputs": [],
   "source": [
    "sheet=wb.get_sheet_by_name('Sheet')"
   ]
  },
  {
   "cell_type": "code",
   "execution_count": 71,
   "metadata": {
    "collapsed": true
   },
   "outputs": [],
   "source": [
    "sheet.title='My Sheet 1'"
   ]
  },
  {
   "cell_type": "code",
   "execution_count": 72,
   "metadata": {
    "collapsed": true
   },
   "outputs": [],
   "source": [
    "wb.save('Test_Excel.xlsx')"
   ]
  },
  {
   "cell_type": "code",
   "execution_count": 74,
   "metadata": {
    "collapsed": false
   },
   "outputs": [
    {
     "data": {
      "text/plain": [
       "<Worksheet \"My Sheet 0\">"
      ]
     },
     "execution_count": 74,
     "metadata": {},
     "output_type": "execute_result"
    }
   ],
   "source": [
    "wb.create_sheet(index=0,title='My Sheet 0')"
   ]
  },
  {
   "cell_type": "code",
   "execution_count": 75,
   "metadata": {
    "collapsed": true
   },
   "outputs": [],
   "source": [
    "wb.save('Test_Excel.xlsx')"
   ]
  },
  {
   "cell_type": "code",
   "execution_count": 76,
   "metadata": {
    "collapsed": false
   },
   "outputs": [
    {
     "data": {
      "text/plain": [
       "<Worksheet \"My Sheet 1.5\">"
      ]
     },
     "execution_count": 76,
     "metadata": {},
     "output_type": "execute_result"
    }
   ],
   "source": [
    "wb.create_sheet(index=2,title='My Sheet 1.5')"
   ]
  },
  {
   "cell_type": "code",
   "execution_count": 77,
   "metadata": {
    "collapsed": true
   },
   "outputs": [],
   "source": [
    "wb.save('Test_Excel.xlsx')"
   ]
  },
  {
   "cell_type": "code",
   "execution_count": null,
   "metadata": {
    "collapsed": true
   },
   "outputs": [],
   "source": []
  }
 ],
 "metadata": {
  "kernelspec": {
   "display_name": "Python 2",
   "language": "python",
   "name": "python2"
  },
  "language_info": {
   "codemirror_mode": {
    "name": "ipython",
    "version": 2
   },
   "file_extension": ".py",
   "mimetype": "text/x-python",
   "name": "python",
   "nbconvert_exporter": "python",
   "pygments_lexer": "ipython2",
   "version": "2.7.12"
  }
 },
 "nbformat": 4,
 "nbformat_minor": 0
}
