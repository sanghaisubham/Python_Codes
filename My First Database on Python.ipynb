{
 "cells": [
  {
   "cell_type": "code",
   "execution_count": 1,
   "metadata": {
    "collapsed": true
   },
   "outputs": [],
   "source": [
    "import sqlite3\n",
    "def insert(db,row):\n",
    "    db.execute('insert into test(t1,i1) values (?,?)',(row['t1'],row['i1']))\n",
    "    db.commit()"
   ]
  },
  {
   "cell_type": "code",
   "execution_count": 14,
   "metadata": {
    "collapsed": false
   },
   "outputs": [],
   "source": [
    "def retrieve(db,t1):\n",
    "    cursor=db.execute('select * from test where t1=?',(t1,))\n",
    "    return cursor.fetchone()"
   ]
  },
  {
   "cell_type": "code",
   "execution_count": 5,
   "metadata": {
    "collapsed": true
   },
   "outputs": [],
   "source": [
    "def update(db,row):\n",
    "    db.execute('update test set i1=? where t1=?',(row['i1'],row['t1']))\n",
    "    db.commit()"
   ]
  },
  {
   "cell_type": "code",
   "execution_count": 6,
   "metadata": {
    "collapsed": true
   },
   "outputs": [],
   "source": [
    "def delete(db,t1):\n",
    "    db.execute('delete from test where t1=?',(t1,))\n",
    "    db.commit()"
   ]
  },
  {
   "cell_type": "code",
   "execution_count": 7,
   "metadata": {
    "collapsed": true
   },
   "outputs": [],
   "source": [
    "def display(db):\n",
    "    cursor=db.execute('select  * from test order by t1')\n",
    "    for row in cursor:\n",
    "        print('{}:{}'.format(row['t1'],row['i1']))"
   ]
  },
  {
   "cell_type": "code",
   "execution_count": 22,
   "metadata": {
    "collapsed": false
   },
   "outputs": [
    {
     "name": "stdout",
     "output_type": "stream",
     "text": [
      "Create a Table Test\n",
      "\n",
      "\n",
      "Create Rows\n",
      "\n",
      "\n",
      "Aman:10227\n",
      "Dewang:10224\n",
      "Rajat:10245\n",
      "Subham:10257\n",
      "extra:10224\n",
      "\n",
      "\n",
      "Retrieve Rows\n",
      "\n",
      "\n",
      "({'i1': 10257, 't1': u'Subham'}, {'i1': 10224, 't1': u'Dewang'})\n",
      "\n",
      "\n",
      "Update Rows\n",
      "\n",
      "\n",
      "Aman:10227\n",
      "Dewang:10224\n",
      "Rajat:10235\n",
      "Subham:10257\n",
      "extra:10224\n",
      "\n",
      "\n",
      "Delete Rows\n",
      "\n",
      "\n",
      "Aman:10227\n",
      "Dewang:10224\n",
      "Rajat:10235\n",
      "Subham:10257\n"
     ]
    }
   ],
   "source": [
    "def main():\n",
    "    db=sqlite3.connect('test.db')\n",
    "    db.row_factory=sqlite3.Row\n",
    "    print('Create a Table Test')\n",
    "    db.execute('drop table if exists test')\n",
    "    db.execute('create table test(t1 text,i1 int)')\n",
    "    print('\\n')\n",
    "    print('Create Rows')\n",
    "    print('\\n')\n",
    "    insert(db,dict(t1=\"Subham\",i1=10257))\n",
    "    insert(db,dict(t1=\"Rajat\",i1=10245))\n",
    "    insert(db,dict(t1=\"Aman\",i1=10227))\n",
    "    insert(db,dict(t1=\"Dewang\",i1=10224))\n",
    "    insert(db,dict(t1=\"extra\",i1=10224))\n",
    "    display(db)\n",
    "    print('\\n')\n",
    "    print('Retrieve Rows')\n",
    "    print('\\n')\n",
    "    print(dict(retrieve(db,\"Subham\")),dict(retrieve(db,'Dewang')))\n",
    "    print('\\n')\n",
    "    print('Update Rows')\n",
    "    print('\\n')\n",
    "    update(db,dict(t1=\"Rajat\",i1=10235))\n",
    "    display(db)\n",
    "    print('\\n')\n",
    "    print(\"Delete Rows\")\n",
    "    print('\\n')\n",
    "    delete(db,\"extra\")\n",
    "    display(db)\n",
    "main()"
   ]
  },
  {
   "cell_type": "code",
   "execution_count": null,
   "metadata": {
    "collapsed": true
   },
   "outputs": [],
   "source": []
  }
 ],
 "metadata": {
  "kernelspec": {
   "display_name": "Python 2",
   "language": "python",
   "name": "python2"
  },
  "language_info": {
   "codemirror_mode": {
    "name": "ipython",
    "version": 2
   },
   "file_extension": ".py",
   "mimetype": "text/x-python",
   "name": "python",
   "nbconvert_exporter": "python",
   "pygments_lexer": "ipython2",
   "version": "2.7.12"
  }
 },
 "nbformat": 4,
 "nbformat_minor": 0
}
