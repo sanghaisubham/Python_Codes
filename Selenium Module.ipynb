{
 "cells": [
  {
   "cell_type": "code",
   "execution_count": 27,
   "metadata": {
    "collapsed": false
   },
   "outputs": [],
   "source": [
    "from selenium import webdriver\n",
    "browser=webdriver.Firefox()\n",
    "browser.get('http://www.amazon.in/s/ref=nb_sb_ss_c_1_11?url=search-alias%3Daps&field-keywords=one+plus+3+tempered+glass&sprefix=one+plus+3+%2Caps%2C298&crid=2AAFKNO9NNJC5&rh=i%3Aaps%2Ck%3Aone+plus+3+tempered+glass')\n",
    "elem=browser.find_element_by_css_selector('#result_0 > div > div > div > div.a-fixed-left-grid-col.a-col-right > div.a-row.a-spacing-small > div:nth-child(1) > a > h2')\n",
    "elem.click()\n"
   ]
  },
  {
   "cell_type": "code",
   "execution_count": 22,
   "metadata": {
    "collapsed": false
   },
   "outputs": [],
   "source": [
    "from selenium import webdriver\n",
    "browser=webdriver.Firefox()\n",
    "browser.get('http://www.amazon.in')\n",
    "searchElem=browser.find_element_by_css_selector('#twotabsearchtextbox')\n",
    "searchElem.send_keys('Earphones')\n",
    "searchElem.submit()\n",
    "#browser.refresh()"
   ]
  },
  {
   "cell_type": "code",
   "execution_count": 20,
   "metadata": {
    "collapsed": false
   },
   "outputs": [],
   "source": [
    "searchElem=browser.find_element_by_css_selector('#twotabsearchtextbox')\n",
    "searchElem.send_keys('Earphones') #Will Type in the specific Element in the browser\n",
    "searchElem.submit()"
   ]
  },
  {
   "cell_type": "code",
   "execution_count": 24,
   "metadata": {
    "collapsed": true
   },
   "outputs": [],
   "source": [
    "browser.back()"
   ]
  },
  {
   "cell_type": "code",
   "execution_count": 25,
   "metadata": {
    "collapsed": true
   },
   "outputs": [],
   "source": [
    "browser.forward()"
   ]
  },
  {
   "cell_type": "code",
   "execution_count": 26,
   "metadata": {
    "collapsed": false
   },
   "outputs": [
    {
     "name": "stdout",
     "output_type": "stream",
     "text": [
      "'NoneType' object has no attribute 'path'\n"
     ]
    }
   ],
   "source": [
    "browser.quit()"
   ]
  },
  {
   "cell_type": "code",
   "execution_count": null,
   "metadata": {
    "collapsed": true
   },
   "outputs": [],
   "source": []
  }
 ],
 "metadata": {
  "kernelspec": {
   "display_name": "Python 2",
   "language": "python",
   "name": "python2"
  },
  "language_info": {
   "codemirror_mode": {
    "name": "ipython",
    "version": 2
   },
   "file_extension": ".py",
   "mimetype": "text/x-python",
   "name": "python",
   "nbconvert_exporter": "python",
   "pygments_lexer": "ipython2",
   "version": "2.7.12"
  }
 },
 "nbformat": 4,
 "nbformat_minor": 0
}
