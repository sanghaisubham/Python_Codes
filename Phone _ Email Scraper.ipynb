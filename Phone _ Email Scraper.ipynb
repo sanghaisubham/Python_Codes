{
 "cells": [
  {
   "cell_type": "markdown",
   "metadata": {},
   "source": [
    "# Using PyperClip"
   ]
  },
  {
   "cell_type": "code",
   "execution_count": 24,
   "metadata": {
    "collapsed": false
   },
   "outputs": [],
   "source": [
    "\n",
    "import re,pyperclip\n",
    "#Cretae a regex object for phone numbers\n",
    "phoneRegex=re.compile(r'''\n",
    "# 415-555-0000,555-0000,(415) 555-0000,555-0000 ext  12345,ext.12345,x12345\n",
    "(\n",
    "((\\d\\d\\d)|(\\(\\d\\d\\d\\)))?     # area code(optional)\n",
    "(\\s|-)                       #first separator\n",
    "\\d\\d\\d                       #first 3 digits\n",
    "-                            #separator\n",
    "\\d\\d\\d\\d                     #last 4 digits\n",
    "(((ext(\\.)?\\s)|x)            #extension-word part(optional)\n",
    "(\\d{2,5}))?                  #extension-number part(optional)\n",
    ")\n",
    "''',re.VERBOSE)   #VERBOSE mode allows us to add all sort of comments and newline characters in between\n",
    "#Create regex from email address\n",
    "emailRegex=re.compile(r'''\n",
    "                                    #some.+_thing@something.com\n",
    "[a-zA-Z0-9_.+]+ #inside square brakets no need to escape these '.' or '+' with back slash characters    #name part\n",
    "@                                                                                                      #@symbol \n",
    "[a-zA-Z0-9_.+]+                                                                                         #domain name part\n",
    " ''',re.VERBOSE)\n",
    "#Get Text off clipboard\n",
    "text=pyperclip.paste()\n",
    "#Extract the email/phone from this text\n",
    "extractedPhone=phoneRegex.findall(text)\n",
    "extractedEmail=extractedphone=emailRegex.findall(text)\n",
    "\n",
    "allPhoneNumbers=[]\n",
    "for phoneNumber in extractedPhone:\n",
    "    allPhoneNumbers.append(phoneNumber[0])  #phoneNumber is a tuple\n",
    "    \n",
    "#Copy the extacted email/phone to the clipboard\n",
    "results='\\n'.join(allPhoneNumbers) +'\\n'+'\\n'.join(extractedEmail)\n",
    "pyperclip.copy(results)\n",
    "             "
   ]
  },
  {
   "cell_type": "markdown",
   "metadata": {},
   "source": [
    "# Without Using Pyperclip"
   ]
  },
  {
   "cell_type": "code",
   "execution_count": 26,
   "metadata": {
    "collapsed": false
   },
   "outputs": [
    {
     "name": "stdout",
     "output_type": "stream",
     "text": [
      "415-555-0000\n",
      "452-516-9460\n",
      "sanghaisubham@gmai.com\n",
      "falanadhimka@gmail.com\n"
     ]
    }
   ],
   "source": [
    "\n",
    "import re\n",
    "#Cretae a regex object for phone numbers\n",
    "phoneRegex=re.compile(r'''\n",
    "# 415-555-0000,555-0000,(415) 555-0000,555-0000 ext  12345,ext.12345,x12345\n",
    "(\n",
    "((\\d\\d\\d)|(\\(\\d\\d\\d\\)))?     # area code(optional)\n",
    "(\\s|-)                       #first separator\n",
    "\\d\\d\\d                       #first 3 digits\n",
    "-                            #separator\n",
    "\\d\\d\\d\\d                     #last 4 digits\n",
    "(((ext(\\.)?\\s)|x)            #extension-word part(optional)\n",
    "(\\d{2,5}))?                  #extension-number part(optional)\n",
    ")\n",
    "''',re.VERBOSE)   #VERBOSE mode allows us to add all sort of comments and newline characters in between\n",
    "#Create regex from email address\n",
    "emailRegex=re.compile(r'''\n",
    "                                    #some.+_thing@something.com\n",
    "[a-zA-Z0-9_.+]+ #inside square brakets no need to escape these '.' or '+' with back slash characters    #name part\n",
    "@                                                                                                      #@symbol \n",
    "[a-zA-Z0-9_.+]+                                                                                         #domain name part\n",
    " ''',re.VERBOSE)\n",
    "text='415-555-0000 452-516-9460,sanghaisubham@gmai.com,dddddd,falanadhimka@gmail.com'\n",
    "#Extract the email/phone from this text\n",
    "extractedPhone=phoneRegex.findall(text)\n",
    "extractedEmail=extractedphone=emailRegex.findall(text)\n",
    "\n",
    "allPhoneNumbers=[]\n",
    "for phoneNumber in extractedPhone:\n",
    "    allPhoneNumbers.append(phoneNumber[0])  #phoneNumber is a tuple\n",
    "    \n",
    "\n",
    "\n",
    "results='\\n'.join(allPhoneNumbers) +'\\n'+'\\n'.join(extractedEmail)\n",
    "print(results)\n",
    "             "
   ]
  },
  {
   "cell_type": "code",
   "execution_count": null,
   "metadata": {
    "collapsed": true
   },
   "outputs": [],
   "source": []
  }
 ],
 "metadata": {
  "kernelspec": {
   "display_name": "Python 2",
   "language": "python",
   "name": "python2"
  },
  "language_info": {
   "codemirror_mode": {
    "name": "ipython",
    "version": 2
   },
   "file_extension": ".py",
   "mimetype": "text/x-python",
   "name": "python",
   "nbconvert_exporter": "python",
   "pygments_lexer": "ipython2",
   "version": "2.7.12"
  }
 },
 "nbformat": 4,
 "nbformat_minor": 0
}
